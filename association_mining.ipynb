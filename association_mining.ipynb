{
 "cells": [
  {
   "cell_type": "code",
   "execution_count": null,
   "id": "5d150aee",
   "metadata": {},
   "outputs": [
    {
     "name": "stdout",
     "output_type": "stream",
     "text": [
      "Transaction 1: ['Juice', 'Butter', 'Cheese']\n",
      "Transaction 2: ['Milk', 'Juice']\n",
      "Transaction 3: ['Eggs', 'Butter', 'Bananas', 'Apples', 'Cheese']\n",
      "Transaction 4: ['Milk', 'Apples']\n",
      "Transaction 5: ['Cheese', 'Apples', 'Milk', 'Eggs', 'Juice']\n",
      "Transaction 6: ['Cheese', 'Eggs', 'Juice']\n",
      "Transaction 7: ['Eggs', 'Bananas', 'Cheese']\n",
      "Transaction 8: ['Milk', 'Juice', 'Bananas']\n",
      "Transaction 9: ['Cheese', 'Apples', 'Butter', 'Juice', 'Bread']\n",
      "Transaction 10: ['Milk', 'Bananas', 'Eggs']\n"
     ]
    }
   ],
   "source": [
    "import pandas as pd\n",
    "import random\n",
    "\n",
    "# Defining item pool\n",
    "item_pool = ['Bread', 'Milk', 'Eggs', 'Butter', 'Cheese', 'Apples', 'Bananas', 'Juice']\n",
    "\n",
    "# Generate 10 fake transactions\n",
    "transactions = []\n",
    "for _ in range(10):\n",
    "    num_items = random.randint(2, 5)\n",
    "    items = random.sample(item_pool, num_items)\n",
    "    transactions.append(items)\n",
    "\n",
    "# Displaing the transactions\n",
    "for i, t in enumerate(transactions, 1):\n",
    "    print(f'Transaction {i}: {t}')\n"
   ]
  },
  {
   "cell_type": "code",
   "execution_count": 2,
   "id": "340480da",
   "metadata": {},
   "outputs": [
    {
     "name": "stdout",
     "output_type": "stream",
     "text": [
      "\n",
      "Frequent Itemsets:\n",
      "    support          itemsets\n",
      "0       0.4          (Apples)\n",
      "1       0.4         (Bananas)\n",
      "2       0.3          (Butter)\n",
      "3       0.6          (Cheese)\n",
      "4       0.5            (Eggs)\n",
      "5       0.6           (Juice)\n",
      "6       0.5            (Milk)\n",
      "7       0.3  (Cheese, Apples)\n",
      "8       0.3   (Eggs, Bananas)\n",
      "9       0.3  (Cheese, Butter)\n",
      "10      0.4    (Eggs, Cheese)\n",
      "11      0.4   (Juice, Cheese)\n",
      "12      0.3     (Milk, Juice)\n"
     ]
    }
   ],
   "source": [
    "from mlxtend.preprocessing import TransactionEncoder\n",
    "from mlxtend.frequent_patterns import apriori\n",
    "\n",
    "# One-hot encoding\n",
    "te = TransactionEncoder()\n",
    "te_data = te.fit(transactions).transform(transactions)\n",
    "df = pd.DataFrame(te_data, columns=te.columns_)\n",
    "\n",
    "# Apriori algorithm with min support of 0.3\n",
    "frequent_itemsets = apriori(df, min_support=0.3, use_colnames=True)\n",
    "print(\"\\nFrequent Itemsets:\")\n",
    "print(frequent_itemsets)\n"
   ]
  },
  {
   "cell_type": "code",
   "execution_count": null,
   "id": "51ee163e",
   "metadata": {},
   "outputs": [
    {
     "name": "stdout",
     "output_type": "stream",
     "text": [
      "\n",
      "Association Rules:\n",
      "  antecedents consequents  support  confidence      lift\n",
      "0    (Apples)    (Cheese)      0.3        0.75  1.250000\n",
      "1   (Bananas)      (Eggs)      0.3        0.75  1.500000\n",
      "2    (Butter)    (Cheese)      0.3        1.00  1.666667\n",
      "3      (Eggs)    (Cheese)      0.4        0.80  1.333333\n"
     ]
    }
   ],
   "source": [
    "from mlxtend.frequent_patterns import association_rules\n",
    "\n",
    "# Generating rules with confidence threshold of 0.7\n",
    "rules = association_rules(frequent_itemsets, metric=\"confidence\", min_threshold=0.7)\n",
    "print(\"\\nAssociation Rules:\")\n",
    "print(rules[['antecedents', 'consequents', 'support', 'confidence', 'lift']])\n"
   ]
  }
 ],
 "metadata": {
  "kernelspec": {
   "display_name": "Python 3",
   "language": "python",
   "name": "python3"
  },
  "language_info": {
   "codemirror_mode": {
    "name": "ipython",
    "version": 3
   },
   "file_extension": ".py",
   "mimetype": "text/x-python",
   "name": "python",
   "nbconvert_exporter": "python",
   "pygments_lexer": "ipython3",
   "version": "3.12.10"
  }
 },
 "nbformat": 4,
 "nbformat_minor": 5
}
